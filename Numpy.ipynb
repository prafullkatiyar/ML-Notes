{
  "nbformat": 4,
  "nbformat_minor": 0,
  "metadata": {
    "colab": {
      "name": "Numpy.ipynb",
      "provenance": [],
      "authorship_tag": "ABX9TyNJlbWP2ypwiGdaPpx77Vxt",
      "include_colab_link": true
    },
    "kernelspec": {
      "name": "python3",
      "display_name": "Python 3"
    }
  },
  "cells": [
    {
      "cell_type": "markdown",
      "metadata": {
        "id": "view-in-github",
        "colab_type": "text"
      },
      "source": [
        "<a href=\"https://colab.research.google.com/github/prafullkatiyar/ML-Notes/blob/master/Numpy.ipynb\" target=\"_parent\"><img src=\"https://colab.research.google.com/assets/colab-badge.svg\" alt=\"Open In Colab\"/></a>"
      ]
    },
    {
      "cell_type": "code",
      "metadata": {
        "id": "NasM2Y-wKdJK",
        "colab_type": "code",
        "colab": {}
      },
      "source": [
        "import numpy as np"
      ],
      "execution_count": 1,
      "outputs": []
    },
    {
      "cell_type": "code",
      "metadata": {
        "id": "D2haMDbwMoRw",
        "colab_type": "code",
        "colab": {}
      },
      "source": [
        ""
      ],
      "execution_count": null,
      "outputs": []
    },
    {
      "cell_type": "markdown",
      "metadata": {
        "id": "eJDT9BCUMuC8",
        "colab_type": "text"
      },
      "source": [
        "# Numpy's Structured Array\n"
      ]
    },
    {
      "cell_type": "code",
      "metadata": {
        "id": "ag7lYG7ML_ZV",
        "colab_type": "code",
        "colab": {}
      },
      "source": [
        "# Lesson 1\n",
        "name = ['Alice', 'Bob', 'Cathy', 'Doug']\n",
        "age = [25, 45, 37, 19]\n",
        "weight = [55.0, 85.5, 68.0, 61.5]"
      ],
      "execution_count": 19,
      "outputs": []
    },
    {
      "cell_type": "code",
      "metadata": {
        "id": "Utjf3kaqLF9s",
        "colab_type": "code",
        "colab": {
          "base_uri": "https://localhost:8080/",
          "height": 35
        },
        "outputId": "c0c869cf-4df2-45cd-bb75-f336bc38a43f"
      },
      "source": [
        "# Return a new array of given shape and type, filled with zeros.\n",
        "x = np.zeros(4, dtype=int)\n",
        "print(x)"
      ],
      "execution_count": 11,
      "outputs": [
        {
          "output_type": "stream",
          "text": [
            "[0 0 0 0]\n"
          ],
          "name": "stdout"
        }
      ]
    },
    {
      "cell_type": "code",
      "metadata": {
        "id": "Um-9DL-kLLZP",
        "colab_type": "code",
        "colab": {
          "base_uri": "https://localhost:8080/",
          "height": 35
        },
        "outputId": "1883572a-67fa-4f3f-8b96-a6ffa94250b2"
      },
      "source": [
        "# Use a compound data type for structured arrays\n",
        "data = np.zeros(4, dtype={'names':('name', 'age', 'weight'),\n",
        "                          'formats':('U10', 'i4', 'f8')})\n",
        "print(data.dtype)"
      ],
      "execution_count": 20,
      "outputs": [
        {
          "output_type": "stream",
          "text": [
            "[('name', '<U10'), ('age', '<i4'), ('weight', '<f8')]\n"
          ],
          "name": "stdout"
        }
      ]
    },
    {
      "cell_type": "code",
      "metadata": {
        "id": "oXBLONXHLag2",
        "colab_type": "code",
        "colab": {
          "base_uri": "https://localhost:8080/",
          "height": 54
        },
        "outputId": "3ad85089-fa82-4de4-b893-175de9040e3f"
      },
      "source": [
        "# Assign data to structured array\n",
        "data['name'] = name\n",
        "data['age'] = age\n",
        "data['weight'] = weight\n",
        "print(data)"
      ],
      "execution_count": 21,
      "outputs": [
        {
          "output_type": "stream",
          "text": [
            "[('Alice', 25, 55. ) ('Bob', 45, 85.5) ('Cathy', 37, 68. )\n",
            " ('Doug', 19, 61.5)]\n"
          ],
          "name": "stdout"
        }
      ]
    },
    {
      "cell_type": "code",
      "metadata": {
        "id": "bPeyzOy1L0sg",
        "colab_type": "code",
        "colab": {
          "base_uri": "https://localhost:8080/",
          "height": 54
        },
        "outputId": "370e11b1-d4c1-48b7-8929-e59faea7e144"
      },
      "source": [
        "# BOOLEAN masking, get names where age is under 30\n",
        "data[data['age'] < 30]"
      ],
      "execution_count": 22,
      "outputs": [
        {
          "output_type": "execute_result",
          "data": {
            "text/plain": [
              "array([('Alice', 25, 55. ), ('Doug', 19, 61.5)],\n",
              "      dtype=[('name', '<U10'), ('age', '<i4'), ('weight', '<f8')])"
            ]
          },
          "metadata": {
            "tags": []
          },
          "execution_count": 22
        }
      ]
    },
    {
      "cell_type": "code",
      "metadata": {
        "id": "qNr56OU-MMYZ",
        "colab_type": "code",
        "colab": {}
      },
      "source": [
        ""
      ],
      "execution_count": null,
      "outputs": []
    },
    {
      "cell_type": "markdown",
      "metadata": {
        "id": "DP4DRAGtNRiR",
        "colab_type": "text"
      },
      "source": [
        "# Array types"
      ]
    },
    {
      "cell_type": "code",
      "metadata": {
        "id": "FckmRGPINT2A",
        "colab_type": "code",
        "colab": {}
      },
      "source": [
        "a = np.array([1, 2, 3])   # Create a rank 1 array\n",
        "b = np.array([[1,2,3],[4,5,6]])    # Create a rank 2 array\n",
        "c = np.zeros((3,2))   # Create an array of all zeros\n",
        "d = np.ones((3,2))    # Create an array of all ones\n",
        "e = np.full((2,2), 7)  # Create a constant array\n",
        "f = np.eye(2)         # Create a 2x2 identity matrix"
      ],
      "execution_count": 23,
      "outputs": []
    },
    {
      "cell_type": "code",
      "metadata": {
        "id": "igvIlFJRNUwU",
        "colab_type": "code",
        "colab": {}
      },
      "source": [
        ""
      ],
      "execution_count": null,
      "outputs": []
    },
    {
      "cell_type": "markdown",
      "metadata": {
        "id": "R8Yy7jvSNZgB",
        "colab_type": "text"
      },
      "source": [
        "# Slice Arrays"
      ]
    },
    {
      "cell_type": "code",
      "metadata": {
        "id": "Dmp3yoF6NbCA",
        "colab_type": "code",
        "colab": {
          "base_uri": "https://localhost:8080/",
          "height": 72
        },
        "outputId": "2fb4f9d9-81f0-409b-c014-228f13ac1209"
      },
      "source": [
        "a = np.array([[1,2,3,4], [5,6,7,8], [9,10,11,12]])\n",
        "a"
      ],
      "execution_count": 28,
      "outputs": [
        {
          "output_type": "execute_result",
          "data": {
            "text/plain": [
              "array([[ 1,  2,  3,  4],\n",
              "       [ 5,  6,  7,  8],\n",
              "       [ 9, 10, 11, 12]])"
            ]
          },
          "metadata": {
            "tags": []
          },
          "execution_count": 28
        }
      ]
    },
    {
      "cell_type": "code",
      "metadata": {
        "id": "NE_STMWiNpMG",
        "colab_type": "code",
        "colab": {
          "base_uri": "https://localhost:8080/",
          "height": 54
        },
        "outputId": "fa9ef65a-c50b-45d4-b0b8-b490f74fa70c"
      },
      "source": [
        "# Slice the subarray consisting of the first 2 rows and columns 1 and 2; \n",
        "b = a[:2, 1:3] \n",
        "b"
      ],
      "execution_count": 31,
      "outputs": [
        {
          "output_type": "execute_result",
          "data": {
            "text/plain": [
              "array([[2, 3],\n",
              "       [6, 7]])"
            ]
          },
          "metadata": {
            "tags": []
          },
          "execution_count": 31
        }
      ]
    },
    {
      "cell_type": "code",
      "metadata": {
        "id": "MXntXw0pNywZ",
        "colab_type": "code",
        "colab": {
          "base_uri": "https://localhost:8080/",
          "height": 35
        },
        "outputId": "666f8946-0055-402e-b6f4-ef500c0013ed"
      },
      "source": [
        "# Rank 1 view of the second row of a\n",
        "row_r1 = a[1, :]\n",
        "print(row_r1)"
      ],
      "execution_count": 35,
      "outputs": [
        {
          "output_type": "stream",
          "text": [
            "[5 6 7 8]\n"
          ],
          "name": "stdout"
        }
      ]
    },
    {
      "cell_type": "code",
      "metadata": {
        "id": "HT4zO0KANytR",
        "colab_type": "code",
        "colab": {
          "base_uri": "https://localhost:8080/",
          "height": 35
        },
        "outputId": "40394c2c-ac3c-49f1-8424-6e3a2e9ff8ec"
      },
      "source": [
        "# index \n",
        "print(a[[0, 1, 2], [0, 1, 0]])"
      ],
      "execution_count": 34,
      "outputs": [
        {
          "output_type": "stream",
          "text": [
            "[1 6 9]\n"
          ],
          "name": "stdout"
        }
      ]
    },
    {
      "cell_type": "code",
      "metadata": {
        "id": "DkOSviOaNyp1",
        "colab_type": "code",
        "colab": {
          "base_uri": "https://localhost:8080/",
          "height": 35
        },
        "outputId": "07c29408-1ece-4f8d-f5f9-a21de15b490b"
      },
      "source": [
        "g = np.array([a[0, 0], a[1, 1], a[2, 0]])\n",
        "g"
      ],
      "execution_count": 36,
      "outputs": [
        {
          "output_type": "execute_result",
          "data": {
            "text/plain": [
              "array([1, 6, 9])"
            ]
          },
          "metadata": {
            "tags": []
          },
          "execution_count": 36
        }
      ]
    },
    {
      "cell_type": "code",
      "metadata": {
        "id": "s9r5BBUKNymo",
        "colab_type": "code",
        "colab": {
          "base_uri": "https://localhost:8080/",
          "height": 35
        },
        "outputId": "28f72ceb-06f4-4b8b-952d-e7b3f62a8a35"
      },
      "source": [
        "h = a[[0, 0], [1, 1]] \n",
        "h"
      ],
      "execution_count": 37,
      "outputs": [
        {
          "output_type": "execute_result",
          "data": {
            "text/plain": [
              "array([2, 2])"
            ]
          },
          "metadata": {
            "tags": []
          },
          "execution_count": 37
        }
      ]
    },
    {
      "cell_type": "code",
      "metadata": {
        "id": "Go9at_iiOkhb",
        "colab_type": "code",
        "colab": {
          "base_uri": "https://localhost:8080/",
          "height": 35
        },
        "outputId": "62a53c3b-2e21-4707-85fb-9a16f6bcc6fc"
      },
      "source": [
        "i = np.array([a[0, 1], a[0, 1]])\n",
        "i"
      ],
      "execution_count": 38,
      "outputs": [
        {
          "output_type": "execute_result",
          "data": {
            "text/plain": [
              "array([2, 2])"
            ]
          },
          "metadata": {
            "tags": []
          },
          "execution_count": 38
        }
      ]
    },
    {
      "cell_type": "code",
      "metadata": {
        "id": "yTu4znASOrUj",
        "colab_type": "code",
        "colab": {
          "base_uri": "https://localhost:8080/",
          "height": 72
        },
        "outputId": "27f659ff-4471-43cf-9d78-94f9d933c5d3"
      },
      "source": [
        "bool_idx = (a > 5)\n",
        "bool_idx"
      ],
      "execution_count": 40,
      "outputs": [
        {
          "output_type": "execute_result",
          "data": {
            "text/plain": [
              "array([[False, False, False, False],\n",
              "       [False,  True,  True,  True],\n",
              "       [ True,  True,  True,  True]])"
            ]
          },
          "metadata": {
            "tags": []
          },
          "execution_count": 40
        }
      ]
    },
    {
      "cell_type": "code",
      "metadata": {
        "id": "ydaKixt-OvVt",
        "colab_type": "code",
        "colab": {
          "base_uri": "https://localhost:8080/",
          "height": 35
        },
        "outputId": "ffc56db2-ea24-4ca0-e964-ceff22b71e0b"
      },
      "source": [
        "j = a[bool_idx]\n",
        "j"
      ],
      "execution_count": 41,
      "outputs": [
        {
          "output_type": "execute_result",
          "data": {
            "text/plain": [
              "array([ 6,  7,  8,  9, 10, 11, 12])"
            ]
          },
          "metadata": {
            "tags": []
          },
          "execution_count": 41
        }
      ]
    },
    {
      "cell_type": "code",
      "metadata": {
        "id": "rMiPTJTwO1W8",
        "colab_type": "code",
        "colab": {
          "base_uri": "https://localhost:8080/",
          "height": 35
        },
        "outputId": "526ed4a6-894f-4069-d83a-12ebc8d274e6"
      },
      "source": [
        "k = a[a > 5]\n",
        "k"
      ],
      "execution_count": 42,
      "outputs": [
        {
          "output_type": "execute_result",
          "data": {
            "text/plain": [
              "array([ 6,  7,  8,  9, 10, 11, 12])"
            ]
          },
          "metadata": {
            "tags": []
          },
          "execution_count": 42
        }
      ]
    },
    {
      "cell_type": "code",
      "metadata": {
        "id": "w4oYllcnO3xf",
        "colab_type": "code",
        "colab": {}
      },
      "source": [
        ""
      ],
      "execution_count": null,
      "outputs": []
    },
    {
      "cell_type": "markdown",
      "metadata": {
        "id": "4_swIBI1PI45",
        "colab_type": "text"
      },
      "source": [
        "# Element wise opertaions"
      ]
    },
    {
      "cell_type": "code",
      "metadata": {
        "id": "Jx3ZyH1uPM4w",
        "colab_type": "code",
        "colab": {}
      },
      "source": [
        "x = np.array([[1,2],[3,4]], dtype=np.float64)\n",
        "y = np.array([[5,6],[7,8]], dtype=np.float64)"
      ],
      "execution_count": 43,
      "outputs": []
    },
    {
      "cell_type": "code",
      "metadata": {
        "id": "chR5zukdPPL-",
        "colab_type": "code",
        "colab": {
          "base_uri": "https://localhost:8080/",
          "height": 109
        },
        "outputId": "b79b2154-132d-4028-8f07-9f56ebc14c85"
      },
      "source": [
        "print(\"Elementwise sum; both produce the array\")\n",
        "print(x + y)\n",
        "print(np.add(x, y))"
      ],
      "execution_count": 44,
      "outputs": [
        {
          "output_type": "stream",
          "text": [
            "Elementwise sum; both produce the array\n",
            "[[ 6.  8.]\n",
            " [10. 12.]]\n",
            "[[ 6.  8.]\n",
            " [10. 12.]]\n"
          ],
          "name": "stdout"
        }
      ]
    },
    {
      "cell_type": "code",
      "metadata": {
        "id": "liufDvZKPQ1V",
        "colab_type": "code",
        "colab": {
          "base_uri": "https://localhost:8080/",
          "height": 109
        },
        "outputId": "ae96bb65-fd1b-410e-b605-942235683d01"
      },
      "source": [
        "print(\"Elementwise difference; both produce the array\")\n",
        "print(x - y)\n",
        "print(np.subtract(x, y))"
      ],
      "execution_count": 45,
      "outputs": [
        {
          "output_type": "stream",
          "text": [
            "Elementwise difference; both produce the array\n",
            "[[-4. -4.]\n",
            " [-4. -4.]]\n",
            "[[-4. -4.]\n",
            " [-4. -4.]]\n"
          ],
          "name": "stdout"
        }
      ]
    },
    {
      "cell_type": "code",
      "metadata": {
        "id": "e_s3EcHrPTmu",
        "colab_type": "code",
        "colab": {
          "base_uri": "https://localhost:8080/",
          "height": 109
        },
        "outputId": "86bd3f54-8b0c-40f5-ec66-1c3d2b25947d"
      },
      "source": [
        "print(\"Elementwise product; both produce the array\")\n",
        "print(x * y)\n",
        "print(np.multiply(x, y))"
      ],
      "execution_count": 46,
      "outputs": [
        {
          "output_type": "stream",
          "text": [
            "Elementwise product; both produce the array\n",
            "[[ 5. 12.]\n",
            " [21. 32.]]\n",
            "[[ 5. 12.]\n",
            " [21. 32.]]\n"
          ],
          "name": "stdout"
        }
      ]
    },
    {
      "cell_type": "code",
      "metadata": {
        "id": "QD1-JrgvPVZw",
        "colab_type": "code",
        "colab": {
          "base_uri": "https://localhost:8080/",
          "height": 109
        },
        "outputId": "201a5a06-c2fb-4e93-a57d-ba2b23ae3601"
      },
      "source": [
        "print(\"Elementwise division; both produce the array\")\n",
        "print(x / y)\n",
        "print(np.divide(x, y))"
      ],
      "execution_count": 47,
      "outputs": [
        {
          "output_type": "stream",
          "text": [
            "Elementwise division; both produce the array\n",
            "[[0.2        0.33333333]\n",
            " [0.42857143 0.5       ]]\n",
            "[[0.2        0.33333333]\n",
            " [0.42857143 0.5       ]]\n"
          ],
          "name": "stdout"
        }
      ]
    },
    {
      "cell_type": "code",
      "metadata": {
        "id": "zmxE-iTrPXJZ",
        "colab_type": "code",
        "colab": {
          "base_uri": "https://localhost:8080/",
          "height": 72
        },
        "outputId": "733dfce5-21a5-4490-a158-aa25ee264844"
      },
      "source": [
        "print(\"Elementwise square root; produces the array\")\n",
        "print(np.sqrt(x))"
      ],
      "execution_count": 48,
      "outputs": [
        {
          "output_type": "stream",
          "text": [
            "Elementwise square root; produces the array\n",
            "[[1.         1.41421356]\n",
            " [1.73205081 2.        ]]\n"
          ],
          "name": "stdout"
        }
      ]
    },
    {
      "cell_type": "code",
      "metadata": {
        "id": "_RpYQ_URPYbH",
        "colab_type": "code",
        "colab": {
          "base_uri": "https://localhost:8080/",
          "height": 35
        },
        "outputId": "ac4a379e-7c69-4e6c-9800-d4e3f0b16a44"
      },
      "source": [
        "v = np.array([9,10])\n",
        "w = np.array([11, 12])\n",
        "v.dot(w)"
      ],
      "execution_count": 50,
      "outputs": [
        {
          "output_type": "execute_result",
          "data": {
            "text/plain": [
              "219"
            ]
          },
          "metadata": {
            "tags": []
          },
          "execution_count": 50
        }
      ]
    },
    {
      "cell_type": "code",
      "metadata": {
        "id": "464S1kyEPcNI",
        "colab_type": "code",
        "colab": {
          "base_uri": "https://localhost:8080/",
          "height": 35
        },
        "outputId": "c4c791f4-3a0a-4439-caad-1004cd7e010a"
      },
      "source": [
        "# dot is available both as a function in the numpy module and \n",
        "# as an instance method of array objects\n",
        "np.dot(v, w)"
      ],
      "execution_count": 52,
      "outputs": [
        {
          "output_type": "execute_result",
          "data": {
            "text/plain": [
              "219"
            ]
          },
          "metadata": {
            "tags": []
          },
          "execution_count": 52
        }
      ]
    },
    {
      "cell_type": "markdown",
      "metadata": {
        "id": "xKNrtp3XPmq5",
        "colab_type": "text"
      },
      "source": [
        "# Broadcasting"
      ]
    },
    {
      "cell_type": "code",
      "metadata": {
        "id": "v2TyQuRDPnnI",
        "colab_type": "code",
        "colab": {
          "base_uri": "https://localhost:8080/",
          "height": 90
        },
        "outputId": "401ae31c-7234-45b8-e993-102beb4a752b"
      },
      "source": [
        "x = np.array([[1,2,3], [4,5,6], [7,8,9], [10, 11, 12]])\n",
        "v = np.array([1, 0, 1])\n",
        "y=x+v\n",
        "y"
      ],
      "execution_count": 53,
      "outputs": [
        {
          "output_type": "execute_result",
          "data": {
            "text/plain": [
              "array([[ 2,  2,  4],\n",
              "       [ 5,  5,  7],\n",
              "       [ 8,  8, 10],\n",
              "       [11, 11, 13]])"
            ]
          },
          "metadata": {
            "tags": []
          },
          "execution_count": 53
        }
      ]
    },
    {
      "cell_type": "code",
      "metadata": {
        "id": "9Uc0fAkVQFTw",
        "colab_type": "code",
        "colab": {}
      },
      "source": [
        ""
      ],
      "execution_count": null,
      "outputs": []
    },
    {
      "cell_type": "markdown",
      "metadata": {
        "id": "70Tpn7ZbTByl",
        "colab_type": "text"
      },
      "source": [
        "# Create numpy array/ sampling"
      ]
    },
    {
      "cell_type": "code",
      "metadata": {
        "id": "iAqy6PH6TFtb",
        "colab_type": "code",
        "colab": {
          "base_uri": "https://localhost:8080/",
          "height": 35
        },
        "outputId": "6fae5f88-5223-44cd-ad7b-237161e8679f"
      },
      "source": [
        "x = np.arange(10,20)\n",
        "x"
      ],
      "execution_count": 54,
      "outputs": [
        {
          "output_type": "execute_result",
          "data": {
            "text/plain": [
              "array([10, 11, 12, 13, 14, 15, 16, 17, 18, 19])"
            ]
          },
          "metadata": {
            "tags": []
          },
          "execution_count": 54
        }
      ]
    },
    {
      "cell_type": "code",
      "metadata": {
        "id": "gtZtfn3fTHsZ",
        "colab_type": "code",
        "colab": {
          "base_uri": "https://localhost:8080/",
          "height": 35
        },
        "outputId": "ab439861-2172-4b4b-cd1f-4a892e29c3f3"
      },
      "source": [
        "y = x[::-1]\n",
        "y"
      ],
      "execution_count": 55,
      "outputs": [
        {
          "output_type": "execute_result",
          "data": {
            "text/plain": [
              "array([19, 18, 17, 16, 15, 14, 13, 12, 11, 10])"
            ]
          },
          "metadata": {
            "tags": []
          },
          "execution_count": 55
        }
      ]
    },
    {
      "cell_type": "code",
      "metadata": {
        "id": "it6GconGTKjv",
        "colab_type": "code",
        "colab": {
          "base_uri": "https://localhost:8080/",
          "height": 54
        },
        "outputId": "209390d1-3b8b-471f-84b8-88daedc0e0dc"
      },
      "source": [
        "x = np.random.random(10)\n",
        "x"
      ],
      "execution_count": 56,
      "outputs": [
        {
          "output_type": "execute_result",
          "data": {
            "text/plain": [
              "array([0.84348227, 0.03204596, 0.98812999, 0.92856638, 0.7901312 ,\n",
              "       0.810561  , 0.05502279, 0.40274897, 0.15091627, 0.67026539])"
            ]
          },
          "metadata": {
            "tags": []
          },
          "execution_count": 56
        }
      ]
    },
    {
      "cell_type": "code",
      "metadata": {
        "id": "G09NYiECTNzq",
        "colab_type": "code",
        "colab": {
          "base_uri": "https://localhost:8080/",
          "height": 35
        },
        "outputId": "deb4643d-acaa-48cb-c825-1c6696e16ba7"
      },
      "source": [
        "x.max()"
      ],
      "execution_count": 57,
      "outputs": [
        {
          "output_type": "execute_result",
          "data": {
            "text/plain": [
              "0.988129986809845"
            ]
          },
          "metadata": {
            "tags": []
          },
          "execution_count": 57
        }
      ]
    },
    {
      "cell_type": "code",
      "metadata": {
        "id": "QcobZVTrTRA5",
        "colab_type": "code",
        "colab": {
          "base_uri": "https://localhost:8080/",
          "height": 35
        },
        "outputId": "f7c12e7b-bd44-4828-debd-9fbe0cc99f2e"
      },
      "source": [
        "x.argmax()"
      ],
      "execution_count": 58,
      "outputs": [
        {
          "output_type": "execute_result",
          "data": {
            "text/plain": [
              "2"
            ]
          },
          "metadata": {
            "tags": []
          },
          "execution_count": 58
        }
      ]
    },
    {
      "cell_type": "code",
      "metadata": {
        "id": "wmkhn1UfTRjf",
        "colab_type": "code",
        "colab": {
          "base_uri": "https://localhost:8080/",
          "height": 35
        },
        "outputId": "c790266d-10b8-4511-b6e9-39f20870a11b"
      },
      "source": [
        "ages = np.random.randint(low=20, high=60, size=10)\n",
        "ages"
      ],
      "execution_count": 60,
      "outputs": [
        {
          "output_type": "execute_result",
          "data": {
            "text/plain": [
              "array([21, 20, 48, 50, 55, 32, 41, 36, 41, 34])"
            ]
          },
          "metadata": {
            "tags": []
          },
          "execution_count": 60
        }
      ]
    },
    {
      "cell_type": "code",
      "metadata": {
        "id": "Tbfj3dRvTVqU",
        "colab_type": "code",
        "colab": {}
      },
      "source": [
        "# used with matplot lib to generate \n",
        "# evenly spaced 256 number in an interval of -6 to 6\n",
        "x = np.linspace(-6,6,256) "
      ],
      "execution_count": 64,
      "outputs": []
    },
    {
      "cell_type": "code",
      "metadata": {
        "id": "BDWLajeuTgHJ",
        "colab_type": "code",
        "colab": {}
      },
      "source": [
        "# array from -5 to 5, with interval of 0.1\n",
        "xx = np.arange(-5, 5, 0.1)"
      ],
      "execution_count": 66,
      "outputs": []
    },
    {
      "cell_type": "code",
      "metadata": {
        "id": "zdvDCMouT9hf",
        "colab_type": "code",
        "colab": {}
      },
      "source": [
        "# assume Y = 2Y + some perturbation\n",
        "pp = 1.1  # level of noise\n",
        "yy = xx**2 + np.random.normal(0, pp, size=len(xx))\n",
        "# location of mean(default 0), standard deviation and shape\n",
        "# sample of numbers drawn from normal distribution"
      ],
      "execution_count": 67,
      "outputs": []
    },
    {
      "cell_type": "markdown",
      "metadata": {
        "id": "juN-AFaIVHwT",
        "colab_type": "text"
      },
      "source": [
        "# Other functions"
      ]
    },
    {
      "cell_type": "code",
      "metadata": {
        "id": "eZBvCWg6VLaF",
        "colab_type": "code",
        "colab": {
          "base_uri": "https://localhost:8080/",
          "height": 35
        },
        "outputId": "2434af44-ad7b-4a25-d156-e861281e5ad8"
      },
      "source": [
        "d = np.array([1,2,3])\n",
        "np.power(d, 2) # power function\n",
        "np.sqrt(d.sum()) # square root function"
      ],
      "execution_count": 69,
      "outputs": [
        {
          "output_type": "execute_result",
          "data": {
            "text/plain": [
              "2.449489742783178"
            ]
          },
          "metadata": {
            "tags": []
          },
          "execution_count": 69
        }
      ]
    },
    {
      "cell_type": "code",
      "metadata": {
        "id": "PeiHHcswVSMD",
        "colab_type": "code",
        "colab": {
          "base_uri": "https://localhost:8080/",
          "height": 109
        },
        "outputId": "3fb06e31-ce3c-416f-e1ae-a97f916bb04b"
      },
      "source": [
        "# Draw random samples from a multivariate normal distribution.\n",
        "# is a generalisation of the one-dimensional normal distribution to higher dimensions.\n",
        "# params: mean covariance size\n",
        "d = np.random.multivariate_normal(np.zeros(3), np.eye(3), size=5)\n",
        "d"
      ],
      "execution_count": 75,
      "outputs": [
        {
          "output_type": "execute_result",
          "data": {
            "text/plain": [
              "array([[-0.24962783,  1.94364075,  1.43261875],\n",
              "       [-0.68908368, -0.47211293, -2.49346158],\n",
              "       [ 1.01698755, -1.80975142, -1.56984662],\n",
              "       [ 0.18880354,  0.92101836,  0.48866847],\n",
              "       [-0.26361744, -1.57743083,  1.01989405]])"
            ]
          },
          "metadata": {
            "tags": []
          },
          "execution_count": 75
        }
      ]
    },
    {
      "cell_type": "code",
      "metadata": {
        "id": "k1d2zkhUVoT0",
        "colab_type": "code",
        "colab": {}
      },
      "source": [
        "'''\n",
        "np.r_\n",
        "np.c_\n",
        "np.ravel\n",
        "np.reshape\n",
        "'''"
      ],
      "execution_count": 72,
      "outputs": []
    },
    {
      "cell_type": "code",
      "metadata": {
        "id": "lGwvHHhZVtWh",
        "colab_type": "code",
        "colab": {
          "base_uri": "https://localhost:8080/",
          "height": 146
        },
        "outputId": "ee9a457a-3263-41e7-99d0-87e2d88f0b7e"
      },
      "source": [
        "#You are allowed to have one \"unknown\" dimension.\n",
        "#Meaning that you do not have to specify an exact number for one of the dimensions in the reshape method.\n",
        "#Pass -1 as the value, and NumPy will calculate this number for you.\n",
        "arr = np.array([1, 2, 3, 4, 5, 6, 7, 8, 9, 10, 11, 12])\n",
        "newarr = arr.reshape(2, 3, 2)\n",
        "newarr"
      ],
      "execution_count": 78,
      "outputs": [
        {
          "output_type": "execute_result",
          "data": {
            "text/plain": [
              "array([[[ 1,  2],\n",
              "        [ 3,  4],\n",
              "        [ 5,  6]],\n",
              "\n",
              "       [[ 7,  8],\n",
              "        [ 9, 10],\n",
              "        [11, 12]]])"
            ]
          },
          "metadata": {
            "tags": []
          },
          "execution_count": 78
        }
      ]
    },
    {
      "cell_type": "code",
      "metadata": {
        "id": "kWh7h2-NWiop",
        "colab_type": "code",
        "colab": {
          "base_uri": "https://localhost:8080/",
          "height": 35
        },
        "outputId": "d6a9729d-9e5a-42d3-c395-c57940459602"
      },
      "source": [
        "'''\n",
        "np.linalg.norm(pos - pos_goal) \n",
        "generate matrix with one of the 8 available norms(ex eucleadian)\n",
        "similar to distance matrix in from scipy.spatial import distance_matrix\n",
        "'''"
      ],
      "execution_count": 79,
      "outputs": [
        {
          "output_type": "execute_result",
          "data": {
            "text/plain": [
              "'\\nnp.linalg.norm(pos - pos_goal) \\ngenerate matrix with one of the 8 available norms(ex eucleadian)\\nsimilar to distance matrix in from scipy.spatial import distance_matrix\\n'"
            ]
          },
          "metadata": {
            "tags": []
          },
          "execution_count": 79
        }
      ]
    },
    {
      "cell_type": "code",
      "metadata": {
        "id": "yEM4VmQiWwvf",
        "colab_type": "code",
        "colab": {}
      },
      "source": [
        ""
      ],
      "execution_count": null,
      "outputs": []
    }
  ]
}