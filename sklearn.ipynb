{
  "nbformat": 4,
  "nbformat_minor": 0,
  "metadata": {
    "colab": {
      "name": "sklearn",
      "provenance": [],
      "collapsed_sections": [],
      "toc_visible": true,
      "authorship_tag": "ABX9TyORrvc5Os4/elyxTWm2NPTI",
      "include_colab_link": true
    },
    "kernelspec": {
      "name": "python3",
      "display_name": "Python 3"
    }
  },
  "cells": [
    {
      "cell_type": "markdown",
      "metadata": {
        "id": "view-in-github",
        "colab_type": "text"
      },
      "source": [
        "<a href=\"https://colab.research.google.com/github/prafullkatiyar/ML-Notes/blob/master/sklearn.ipynb\" target=\"_parent\"><img src=\"https://colab.research.google.com/assets/colab-badge.svg\" alt=\"Open In Colab\"/></a>"
      ]
    },
    {
      "cell_type": "markdown",
      "metadata": {
        "id": "tt55ir_i5zMh",
        "colab_type": "text"
      },
      "source": [
        "# Sklearn datasets"
      ]
    },
    {
      "cell_type": "code",
      "metadata": {
        "id": "Qh-wsizPbJo7",
        "colab_type": "code",
        "colab": {}
      },
      "source": [
        "from sklearn import datasets"
      ],
      "execution_count": null,
      "outputs": []
    },
    {
      "cell_type": "code",
      "metadata": {
        "id": "OP0UqBOr2oGk",
        "colab_type": "code",
        "colab": {
          "base_uri": "https://localhost:8080/",
          "height": 35
        },
        "outputId": "2e793df8-beb4-47fc-a007-c79b2228f128"
      },
      "source": [
        "# load iris dataset\n",
        "iris = datasets.load_iris()\n",
        "# examine its keys\n",
        "iris.keys()"
      ],
      "execution_count": null,
      "outputs": [
        {
          "output_type": "execute_result",
          "data": {
            "text/plain": [
              "dict_keys(['data', 'target', 'target_names', 'DESCR', 'feature_names', 'filename'])"
            ]
          },
          "metadata": {
            "tags": []
          },
          "execution_count": 2
        }
      ]
    },
    {
      "cell_type": "code",
      "metadata": {
        "id": "RQGtFi6U27IA",
        "colab_type": "code",
        "colab": {}
      },
      "source": [
        "# print out its description\n",
        "#print(iris['DESCR'])"
      ],
      "execution_count": null,
      "outputs": []
    },
    {
      "cell_type": "code",
      "metadata": {
        "id": "-pk2iTzP28yI",
        "colab_type": "code",
        "colab": {
          "base_uri": "https://localhost:8080/",
          "height": 35
        },
        "outputId": "4e0308e6-c0c5-45a1-c820-bfcc9d27dd03"
      },
      "source": [
        "X = iris['data']\n",
        "X.shape"
      ],
      "execution_count": null,
      "outputs": [
        {
          "output_type": "execute_result",
          "data": {
            "text/plain": [
              "(150, 4)"
            ]
          },
          "metadata": {
            "tags": []
          },
          "execution_count": 4
        }
      ]
    },
    {
      "cell_type": "code",
      "metadata": {
        "id": "nLR82kry3Fqw",
        "colab_type": "code",
        "colab": {
          "base_uri": "https://localhost:8080/",
          "height": 237
        },
        "outputId": "51a0ccaa-5c4b-401e-e0e0-d769fe199760"
      },
      "source": [
        "print(iris.target_names)\n",
        "print(iris.feature_names)\n",
        "print(iris.target)\n",
        "print(iris.data[:5,:])"
      ],
      "execution_count": null,
      "outputs": [
        {
          "output_type": "stream",
          "text": [
            "['setosa' 'versicolor' 'virginica']\n",
            "['sepal length (cm)', 'sepal width (cm)', 'petal length (cm)', 'petal width (cm)']\n",
            "[0 0 0 0 0 0 0 0 0 0 0 0 0 0 0 0 0 0 0 0 0 0 0 0 0 0 0 0 0 0 0 0 0 0 0 0 0\n",
            " 0 0 0 0 0 0 0 0 0 0 0 0 0 1 1 1 1 1 1 1 1 1 1 1 1 1 1 1 1 1 1 1 1 1 1 1 1\n",
            " 1 1 1 1 1 1 1 1 1 1 1 1 1 1 1 1 1 1 1 1 1 1 1 1 1 1 2 2 2 2 2 2 2 2 2 2 2\n",
            " 2 2 2 2 2 2 2 2 2 2 2 2 2 2 2 2 2 2 2 2 2 2 2 2 2 2 2 2 2 2 2 2 2 2 2 2 2\n",
            " 2 2]\n",
            "[[5.1 3.5 1.4 0.2]\n",
            " [4.9 3.  1.4 0.2]\n",
            " [4.7 3.2 1.3 0.2]\n",
            " [4.6 3.1 1.5 0.2]\n",
            " [5.  3.6 1.4 0.2]]\n"
          ],
          "name": "stdout"
        }
      ]
    },
    {
      "cell_type": "code",
      "metadata": {
        "id": "bHi8qkeK3Miw",
        "colab_type": "code",
        "colab": {
          "base_uri": "https://localhost:8080/",
          "height": 54
        },
        "outputId": "ccdba974-6b9d-49f8-e831-daf1800e95f0"
      },
      "source": [
        "# load digits dataset\n",
        "from sklearn import datasets\n",
        "digits = datasets.load_digits()\n",
        "# examine its keys\n",
        "print(digits.keys())\n",
        "#print(digits['DESCR'])\n",
        "X = digits['data']\n",
        "print(X.shape)"
      ],
      "execution_count": null,
      "outputs": [
        {
          "output_type": "stream",
          "text": [
            "dict_keys(['data', 'target', 'target_names', 'images', 'DESCR'])\n",
            "(1797, 64)\n"
          ],
          "name": "stdout"
        }
      ]
    },
    {
      "cell_type": "code",
      "metadata": {
        "id": "D6HJX7wX6S84",
        "colab_type": "code",
        "colab": {}
      },
      "source": [
        "import numpy as np\n",
        "import csv\n",
        "import matplotlib.pyplot as plt\n",
        "import scipy.stats\n",
        "import pandas as pd\n",
        "\n",
        "%matplotlib inline"
      ],
      "execution_count": null,
      "outputs": []
    },
    {
      "cell_type": "code",
      "metadata": {
        "id": "6HN3ddbq7Vbz",
        "colab_type": "code",
        "colab": {
          "base_uri": "https://localhost:8080/",
          "height": 182
        },
        "outputId": "97f50d91-ae48-419c-fe4a-b9ac90084b39"
      },
      "source": [
        "!pip install wget"
      ],
      "execution_count": null,
      "outputs": [
        {
          "output_type": "stream",
          "text": [
            "Collecting wget\n",
            "  Downloading https://files.pythonhosted.org/packages/47/6a/62e288da7bcda82b935ff0c6cfe542970f04e29c756b0e147251b2fb251f/wget-3.2.zip\n",
            "Building wheels for collected packages: wget\n",
            "  Building wheel for wget (setup.py) ... \u001b[?25l\u001b[?25hdone\n",
            "  Created wheel for wget: filename=wget-3.2-cp36-none-any.whl size=9682 sha256=864b3f06055e0ae2fe0a88abe287035ec5c1ff7e309c2540519d4a8c2d7b497e\n",
            "  Stored in directory: /root/.cache/pip/wheels/40/15/30/7d8f7cea2902b4db79e3fea550d7d7b85ecb27ef992b618f3f\n",
            "Successfully built wget\n",
            "Installing collected packages: wget\n",
            "Successfully installed wget-3.2\n"
          ],
          "name": "stdout"
        }
      ]
    },
    {
      "cell_type": "code",
      "metadata": {
        "id": "xZ6yJYjI7Yo4",
        "colab_type": "code",
        "colab": {}
      },
      "source": [
        "import wget\n",
        "\n",
        "link_to_data = 'https://github.com/tuliplab/mds/raw/master/Jupyter/data/Auto.csv'\n",
        "DataSet = wget.download(link_to_data)\n",
        "data = pd.read_csv('Auto.csv')"
      ],
      "execution_count": null,
      "outputs": []
    },
    {
      "cell_type": "markdown",
      "metadata": {
        "id": "rmXoKKjq6Tcq",
        "colab_type": "text"
      },
      "source": [
        "# Data dependency"
      ]
    },
    {
      "cell_type": "markdown",
      "metadata": {
        "id": "ccLW-Shkl3B3",
        "colab_type": "text"
      },
      "source": [
        "Pearson's-r Correlation coefficient\n",
        "\n",
        "\n",
        "We assume $X=\\left\\{ X_{1},\\ldots,X_{n}\\right\\}$ \n",
        "and $Y=\\left\\{ Y_{1},\\ldots,Y_{n}\\right\\}$. Then Pearson-r correlation coefficient is defined as \n",
        "\n",
        "$$ \\rho(X,Y) = \\frac{\\text{cov}(X,Y)}{\\sigma_X \\sigma_Y} =  \\frac{\\sum_{i=1}^n (X_i - \\bar{X})(Y_i - \\bar{Y})}{\\sqrt{\\sum_{i=1}^n(X_i-\\bar{X})^2} \\sqrt{\\sum_{i=1}^n(Y_i-\\bar{Y})^2}} $$\n",
        "\n",
        "Use the car data and find the Pearson's-r correlation coefficient between car weights and fuel consumption."
      ]
    },
    {
      "cell_type": "code",
      "metadata": {
        "id": "eAsdDr-E6k1d",
        "colab_type": "code",
        "colab": {}
      },
      "source": [
        "miles = data['miles']\n",
        "weights = data['Weight']"
      ],
      "execution_count": null,
      "outputs": []
    },
    {
      "cell_type": "code",
      "metadata": {
        "id": "cjFim7lJ64eE",
        "colab_type": "code",
        "colab": {
          "base_uri": "https://localhost:8080/",
          "height": 35
        },
        "outputId": "df307729-b8f0-4afa-ef40-d4422dd6ff66"
      },
      "source": [
        "pearson_r = np.cov(miles, weights)[0, 1] / (miles.std() * weights.std())\n",
        "print(pearson_r)"
      ],
      "execution_count": null,
      "outputs": [
        {
          "output_type": "stream",
          "text": [
            "-0.8676593765172278\n"
          ],
          "name": "stdout"
        }
      ]
    },
    {
      "cell_type": "code",
      "metadata": {
        "id": "Oqmes3hMQV3P",
        "colab_type": "code",
        "colab": {
          "base_uri": "https://localhost:8080/",
          "height": 35
        },
        "outputId": "6e5a2196-9afe-43a3-d500-38552b7c48a5"
      },
      "source": [
        "horse = data['Horse power']\n",
        "cylinder = data['cylinder number']\n",
        "spearman = scipy.stats.spearmanr(horse, cylinder)\n",
        "spearman"
      ],
      "execution_count": null,
      "outputs": [
        {
          "output_type": "execute_result",
          "data": {
            "text/plain": [
              "SpearmanrResult(correlation=0.9017909351708425, pvalue=1.8676856258444694e-12)"
            ]
          },
          "metadata": {
            "tags": []
          },
          "execution_count": 12
        }
      ]
    },
    {
      "cell_type": "code",
      "metadata": {
        "id": "jfr2R1KjQjqk",
        "colab_type": "code",
        "colab": {}
      },
      "source": [
        ""
      ],
      "execution_count": null,
      "outputs": []
    },
    {
      "cell_type": "markdown",
      "metadata": {
        "id": "zVjeOUX_exZl",
        "colab_type": "text"
      },
      "source": [
        "# Regression"
      ]
    },
    {
      "cell_type": "code",
      "metadata": {
        "id": "FSBBIPADeyel",
        "colab_type": "code",
        "colab": {
          "base_uri": "https://localhost:8080/",
          "height": 35
        },
        "outputId": "1b1082f1-ea2a-49e0-d7ae-8b2c32024164"
      },
      "source": [
        "from sklearn import linear_model\n",
        "\n",
        "# instanciate the model\n",
        "lr = linear_model.LinearRegression()\n",
        "\n",
        "# simulating the data\n",
        "x = np.c_[0, 1, 2, 1.5].T\n",
        "y  = [1, 1.5, 3.1, 1.5]\n",
        "\n",
        "# fit the model\n",
        "lr.fit(x, y)"
      ],
      "execution_count": null,
      "outputs": [
        {
          "output_type": "execute_result",
          "data": {
            "text/plain": [
              "LinearRegression(copy_X=True, fit_intercept=True, n_jobs=None, normalize=False)"
            ]
          },
          "metadata": {
            "tags": []
          },
          "execution_count": 13
        }
      ]
    },
    {
      "cell_type": "code",
      "metadata": {
        "id": "Aswt7A3Yez0u",
        "colab_type": "code",
        "colab": {
          "base_uri": "https://localhost:8080/",
          "height": 54
        },
        "outputId": "32db0779-7986-4558-c5b5-32322cf06a55"
      },
      "source": [
        "print (\"Coefficients:\", lr.coef_)\n",
        "print (\"Intercept:\", lr.intercept_)"
      ],
      "execution_count": null,
      "outputs": [
        {
          "output_type": "stream",
          "text": [
            "Coefficients: [0.89714286]\n",
            "Intercept: 0.7657142857142858\n"
          ],
          "name": "stdout"
        }
      ]
    },
    {
      "cell_type": "code",
      "metadata": {
        "id": "Sx7iPGabDvVA",
        "colab_type": "code",
        "colab": {
          "base_uri": "https://localhost:8080/",
          "height": 55
        },
        "outputId": "df3cab5d-24a7-4044-c1af-763083e5a2ba"
      },
      "source": [
        "'''\n",
        "Y = B0 + B1*X1 + B2*X2 + e.\n",
        "The variables in the model are:\n",
        "\n",
        "    Y, the response variable;\n",
        "    X1, the first predictor variable;\n",
        "    X2, the second predictor variable; and\n",
        "    e, the residual error, which is an unmeasured variable.\n",
        "\n",
        "The parameters in the model are:\n",
        "\n",
        "    B0, the Y-intercept;\n",
        "    B1, the first regression coefficient; and\n",
        "    B2, the second regression coefficient.\n",
        "\n",
        "B0, the Y-intercept, can be interpreted as the value you would predict for Y if both X1 = 0 and X2 = 0.\n",
        "If X1 and X2 can not be 0 then B0 has not much meaning\n",
        "Coefficient give corelation, sign of coefficient gives direction of relationship.\n",
        "'''"
      ],
      "execution_count": null,
      "outputs": [
        {
          "output_type": "execute_result",
          "data": {
            "text/plain": [
              "'\\nY = B0 + B1*X1 + B2*X2 + e.\\nThe variables in the model are:\\n\\n    Y, the response variable;\\n    X1, the first predictor variable;\\n    X2, the second predictor variable; and\\n    e, the residual error, which is an unmeasured variable.\\n\\nThe parameters in the model are:\\n\\n    B0, the Y-intercept;\\n    B1, the first regression coefficient; and\\n    B2, the second regression coefficient.\\n\\nB0, the Y-intercept, can be interpreted as the value you would predict for Y if both X1 = 0 and X2 = 0.\\nIf X1 and X2 can not be 0 then B0 has not much meaning\\nCoefficient give corelation, sign of coefficient gives direction of relationship.\\n'"
            ]
          },
          "metadata": {
            "tags": []
          },
          "execution_count": 15
        }
      ]
    },
    {
      "cell_type": "code",
      "metadata": {
        "id": "4sQVTe2HEV7d",
        "colab_type": "code",
        "colab": {}
      },
      "source": [
        "yhat = lr.predict(x)"
      ],
      "execution_count": null,
      "outputs": []
    },
    {
      "cell_type": "code",
      "metadata": {
        "id": "keOpJoAeGDoz",
        "colab_type": "code",
        "colab": {}
      },
      "source": [
        ""
      ],
      "execution_count": null,
      "outputs": []
    },
    {
      "cell_type": "markdown",
      "metadata": {
        "id": "EqyCDZ0hsQSw",
        "colab_type": "text"
      },
      "source": [
        "# KNN"
      ]
    },
    {
      "cell_type": "code",
      "metadata": {
        "id": "CD7pIoYYsRw4",
        "colab_type": "code",
        "colab": {}
      },
      "source": [
        "np.random.seed(100)\n",
        "n_per_class = 50\n",
        "colors = ['green', 'blue', 'magenta']\n",
        "\n",
        "mean1 = [-5, 10]\n",
        "cov1 = [[1.5, 0], [0, 1.5]]\n",
        "mean2 = [0, 7]\n",
        "cov2 = [[1.5, 0], [0, 3]]\n",
        "mean3 = [-6, 6]\n",
        "cov3 = [[2, 0], [0, 1.5]]\n",
        "\n",
        "means = [mean1, mean2, mean3]\n",
        "covs = [cov1, cov2, cov3]\n",
        "\n",
        "x11, x12 = np.random.multivariate_normal(means[0], covs[0], n_per_class).T\n",
        "x21, x22 = np.random.multivariate_normal(means[1], covs[1], n_per_class).T\n",
        "x31, x32 = np.random.multivariate_normal(means[2], covs[2], n_per_class).T"
      ],
      "execution_count": null,
      "outputs": []
    },
    {
      "cell_type": "code",
      "metadata": {
        "id": "Mmd7SS8isSYY",
        "colab_type": "code",
        "colab": {}
      },
      "source": [
        "from sklearn import neighbors\n",
        "# all the points are wighted uniformally\n",
        "# distance: all the points are weighted w.r.t. the inverse of their distance\n",
        "weights='uniform'\n",
        "k = 15\n",
        "knn = neighbors.KNeighborsClassifier(k,weights=weights)"
      ],
      "execution_count": null,
      "outputs": []
    },
    {
      "cell_type": "code",
      "metadata": {
        "id": "BtBHTUq6sXCD",
        "colab_type": "code",
        "colab": {}
      },
      "source": [
        "# organize generated data row and column wise\n",
        "x1 = np.r_[x11, x21, x31]\n",
        "x2 = np.r_[x12, x22, x32]\n",
        "X_train = np.c_[x1, x2]\n",
        "Y_train = np.r_[0*np.ones(n_per_class), 1*np.ones(n_per_class), 2*np.ones(n_per_class)]"
      ],
      "execution_count": null,
      "outputs": []
    },
    {
      "cell_type": "code",
      "metadata": {
        "id": "6y-9T7eJs7jJ",
        "colab_type": "code",
        "colab": {}
      },
      "source": [
        "knn.fit(X_train, Y_train)\n",
        "X_test = [-7, 10]\n",
        "Y_pred = knn.predict([X_test])"
      ],
      "execution_count": null,
      "outputs": []
    },
    {
      "cell_type": "code",
      "metadata": {
        "id": "uiWOGKmWtPRp",
        "colab_type": "code",
        "colab": {
          "base_uri": "https://localhost:8080/",
          "height": 35
        },
        "outputId": "7d903745-0096-44bd-d7c4-ec2fb30da269"
      },
      "source": [
        "Y_pred"
      ],
      "execution_count": null,
      "outputs": [
        {
          "output_type": "execute_result",
          "data": {
            "text/plain": [
              "array([0.])"
            ]
          },
          "metadata": {
            "tags": []
          },
          "execution_count": 21
        }
      ]
    },
    {
      "cell_type": "code",
      "metadata": {
        "id": "Srw2G9B2tR4g",
        "colab_type": "code",
        "colab": {}
      },
      "source": [
        ""
      ],
      "execution_count": null,
      "outputs": []
    },
    {
      "cell_type": "markdown",
      "metadata": {
        "id": "62oBgkD4u69g",
        "colab_type": "text"
      },
      "source": [
        "# Naive Bayes\n",
        "a good resource for understaing naiv byes\n",
        "https://www.analyticsvidhya.com/blog/2017/09/naive-bayes-explained/"
      ]
    },
    {
      "cell_type": "code",
      "metadata": {
        "id": "vvCrqXe-u9bH",
        "colab_type": "code",
        "colab": {
          "base_uri": "https://localhost:8080/",
          "height": 146
        },
        "outputId": "5901c684-2f4f-4244-d9f5-b1f8c28551bd"
      },
      "source": [
        "# example of generating a small classification dataset\n",
        "from sklearn.datasets import make_blobs\n",
        "# generate 2d classification dataset\n",
        "X, y = make_blobs(n_samples=100, centers=2, n_features=2, random_state=1)\n",
        "# summarize\n",
        "print(X.shape, y.shape)\n",
        "print(X[:5])\n",
        "print(y[:5])\n",
        "\n",
        "# 100 examples, 2 features neumerical and binary classification"
      ],
      "execution_count": null,
      "outputs": [
        {
          "output_type": "stream",
          "text": [
            "(100, 2) (100,)\n",
            "[[-0.79415228  2.10495117]\n",
            " [-9.15155186 -4.81286449]\n",
            " [-3.10367371  3.90202401]\n",
            " [-1.42946517  5.16850105]\n",
            " [-7.4693868  -4.20198333]]\n",
            "[0 1 0 0 1]\n"
          ],
          "name": "stdout"
        }
      ]
    },
    {
      "cell_type": "code",
      "metadata": {
        "id": "Y-nHYP9nu_Wi",
        "colab_type": "code",
        "colab": {}
      },
      "source": [
        "# extremely good article for Naive Byes\n",
        "# https://machinelearningmastery.com/classification-as-conditional-probability-and-the-naive-bayes-algorithm/"
      ],
      "execution_count": null,
      "outputs": []
    },
    {
      "cell_type": "code",
      "metadata": {
        "id": "O5o_Su3-zTI-",
        "colab_type": "code",
        "colab": {}
      },
      "source": [
        "# fit a probability distribution to a univariate data sample\n",
        "def fit_distribution(data):\n",
        "\t# estimate parameters\n",
        "\tmu = np.mean(data)\n",
        "\tsigma = np.std(data)\n",
        "\tprint(mu, sigma)\n",
        "\t# fit distribution\n",
        "\tdist = scipy.stats.norm(mu, sigma)\n",
        "\treturn dist"
      ],
      "execution_count": null,
      "outputs": []
    },
    {
      "cell_type": "code",
      "metadata": {
        "id": "7vehAFRaOJ1E",
        "colab_type": "code",
        "colab": {
          "base_uri": "https://localhost:8080/",
          "height": 35
        },
        "outputId": "62dd18ad-4ffd-4f2a-dd40-967dc505f208"
      },
      "source": [
        "# sort data into classes\n",
        "Xy0 = X[y == 0]\n",
        "Xy1 = X[y == 1]\n",
        "print(Xy0.shape, Xy1.shape)"
      ],
      "execution_count": null,
      "outputs": [
        {
          "output_type": "stream",
          "text": [
            "(50, 2) (50, 2)\n"
          ],
          "name": "stdout"
        }
      ]
    },
    {
      "cell_type": "code",
      "metadata": {
        "id": "Z9_i_AL_OVp4",
        "colab_type": "code",
        "colab": {
          "base_uri": "https://localhost:8080/",
          "height": 35
        },
        "outputId": "dce17c7d-74cc-4d46-91da-9c88bc176442"
      },
      "source": [
        "# calculate priors\n",
        "priory0 = len(Xy0) / len(X)\n",
        "priory1 = len(Xy1) / len(X)\n",
        "print(priory0, priory1)"
      ],
      "execution_count": null,
      "outputs": [
        {
          "output_type": "stream",
          "text": [
            "0.5 0.5\n"
          ],
          "name": "stdout"
        }
      ]
    },
    {
      "cell_type": "code",
      "metadata": {
        "id": "Id7bfeM9O-dB",
        "colab_type": "code",
        "colab": {
          "base_uri": "https://localhost:8080/",
          "height": 90
        },
        "outputId": "3e886fbc-a6cf-49eb-a015-2816dd6384ec"
      },
      "source": [
        "# create PDFs for y==0\n",
        "distX1y0 = fit_distribution(Xy0[:, 0])\n",
        "distX2y0 = fit_distribution(Xy0[:, 1])\n",
        "# create PDFs for y==1\n",
        "distX1y1 = fit_distribution(Xy1[:, 0])\n",
        "distX2y1 = fit_distribution(Xy1[:, 1])"
      ],
      "execution_count": null,
      "outputs": [
        {
          "output_type": "stream",
          "text": [
            "-1.5632888906409914 0.787444265443213\n",
            "4.426680361487157 0.958296071258367\n",
            "-9.681177100524485 0.8943078901048118\n",
            "-3.9713794295185845 0.9308177595208521\n"
          ],
          "name": "stdout"
        }
      ]
    },
    {
      "cell_type": "code",
      "metadata": {
        "id": "d5KuEQ_yQHTx",
        "colab_type": "code",
        "colab": {}
      },
      "source": [
        "# calculate the independent conditional probability\n",
        "def probability(X, prior, dist1, dist2):\n",
        "\treturn prior * dist1.pdf(X[0]) * dist2.pdf(X[1])"
      ],
      "execution_count": null,
      "outputs": []
    },
    {
      "cell_type": "code",
      "metadata": {
        "id": "uWDMCOLBSrNR",
        "colab_type": "code",
        "colab": {}
      },
      "source": [
        "# classify one example\n",
        "Xsample, ysample = X[0], y[0]"
      ],
      "execution_count": null,
      "outputs": []
    },
    {
      "cell_type": "code",
      "metadata": {
        "id": "zpZCidTYSv9J",
        "colab_type": "code",
        "colab": {
          "base_uri": "https://localhost:8080/",
          "height": 72
        },
        "outputId": "188e3931-0ddb-4e10-e9bf-658cb6f67fd4"
      },
      "source": [
        "py0 = probability(Xsample, priory0, distX1y0, distX2y0)\n",
        "py1 = probability(Xsample, priory1, distX1y1, distX2y1)\n",
        "print('P(y=0 | %s) = %.3f' % (Xsample, py0*100))\n",
        "print('P(y=1 | %s) = %.3f' % (Xsample, py1*100))\n",
        "print('Truth: y=%d' % ysample)"
      ],
      "execution_count": null,
      "outputs": [
        {
          "output_type": "stream",
          "text": [
            "P(y=0 | [-0.79415228  2.10495117]) = 0.348\n",
            "P(y=1 | [-0.79415228  2.10495117]) = 0.000\n",
            "Truth: y=0\n"
          ],
          "name": "stdout"
        }
      ]
    },
    {
      "cell_type": "markdown",
      "metadata": {
        "id": "76FFAJJPo2io",
        "colab_type": "text"
      },
      "source": [
        "# Random Forest"
      ]
    },
    {
      "cell_type": "code",
      "metadata": {
        "id": "e3gySf9vtnWA",
        "colab_type": "code",
        "colab": {
          "base_uri": "https://localhost:8080/",
          "height": 35
        },
        "outputId": "0046a074-75dd-4930-934c-0f250ec6619f"
      },
      "source": [
        "# make predictions using random forest for classification\n",
        "from sklearn.datasets import make_classification\n",
        "from sklearn.ensemble import RandomForestClassifier\n",
        "# define dataset\n",
        "X, y = make_classification(n_samples=1000, n_features=20, n_informative=15, n_redundant=5, random_state=3)\n",
        "# define the model\n",
        "model = RandomForestClassifier()\n",
        "# fit the model on the whole dataset\n",
        "model.fit(X, y)\n",
        "# make a single prediction\n",
        "row = [[-8.52381793,5.24451077,-12.14967704,-2.92949242,0.99314133,0.67326595,-0.38657932,1.27955683,-0.60712621,3.20807316,0.60504151,-1.38706415,8.92444588,-7.43027595,-2.33653219,1.10358169,0.21547782,1.05057966,0.6975331,0.26076035]]\n",
        "yhat = model.predict(row)\n",
        "print('Predicted Class: %d' % yhat[0])"
      ],
      "execution_count": null,
      "outputs": [
        {
          "output_type": "stream",
          "text": [
            "Predicted Class: 0\n"
          ],
          "name": "stdout"
        }
      ]
    },
    {
      "cell_type": "code",
      "metadata": {
        "id": "Tb-h0-6bty8U",
        "colab_type": "code",
        "colab": {}
      },
      "source": [
        ""
      ],
      "execution_count": null,
      "outputs": []
    },
    {
      "cell_type": "markdown",
      "metadata": {
        "id": "BwkEz3Beukde",
        "colab_type": "text"
      },
      "source": [
        "# Confidence Interval\n",
        "A population includes all of the elements from the dataset. A sample consists of one or more observations from the population.\n",
        "A measurable statistic of a population (such as mean) is called a parameter. But a measurable characteristic of a sample is called statistic.\n",
        "\n",
        "As stated in previous section, population parameter is unknown. Confidence interval is a type of interval estimate of a population parameter calculated from sample statistics. It is an interval estimate combined with a probability.\n",
        "\n",
        "\n",
        "$$Confidence\\, Interval=\\bar{X}\\pm z\\frac{s}{\\sqrt{n}}$$\n",
        "\n",
        "    confidence level (%)     z\n",
        "         \n",
        "            70              1.04 \n",
        "            75              1.15\n",
        "            80              1.28 \n",
        "            85              1.44 \n",
        "            90              1.645\n",
        "            92              1.75\n",
        "            95              1.96\n",
        "            96              2.05\n",
        "            98              2.33\n",
        "            99              2.58"
      ]
    },
    {
      "cell_type": "code",
      "metadata": {
        "id": "xxpH3ToLumEs",
        "colab_type": "code",
        "colab": {}
      },
      "source": [
        "import scipy.stats as ss\n",
        "# FIRST we create population, but we dont use population, rather a sample from it.\n",
        "mu, sigma = 10, 2\n",
        "n_population = 10000\n",
        "population = np.random.normal(mu, sigma, n_population)\n",
        "\n",
        "n_trials = 1000\n",
        "sample_size = 500\n",
        "samples = np.zeros([n_trials, sample_size])\n",
        "sample_std = np.zeros(n_trials)\n",
        "sample_mean = np.zeros(n_trials)\n",
        "\n",
        "for i in range(n_trials):\n",
        "    samples[i] = np.random.choice(population, size=sample_size, replace=False)\n",
        "    sample_mean[i] = samples[i].mean()\n",
        "    sample_std[i] = samples[i].std()"
      ],
      "execution_count": null,
      "outputs": []
    },
    {
      "cell_type": "code",
      "metadata": {
        "id": "70syMH9QKJP-",
        "colab_type": "code",
        "colab": {
          "base_uri": "https://localhost:8080/",
          "height": 314
        },
        "outputId": "73795a10-d727-49d1-b7aa-f652c62393c9"
      },
      "source": [
        "i = 200\n",
        "se = sample_std[i] / np.sqrt(sample_size)\n",
        "dist = ss.distributions.norm(sample_mean[i], se)\n",
        "z = 1.96\n",
        "\n",
        "x = np.linspace(9.5, 10.5, 100)\n",
        "y = dist.pdf(x)\n",
        "\n",
        "fig, ax = plt.subplots()\n",
        "    \n",
        "ax.hist(sample_mean, density=True, bins=20, label='sample means')\n",
        "ax.plot(x, y, label=\"$N(\\mu_{i},se)$\")\n",
        "ax.vlines(sample_mean[i] + z*se, 0, 5, label='$\\mu_i \\pm z\\sigma_i$')\n",
        "ax.vlines(sample_mean[i] - z*se, 0, 5)\n",
        "\n",
        "ax.set_title(\"distribution of sample statistics\\ni={}\".format(i))\n",
        "ax.legend()\n"
      ],
      "execution_count": null,
      "outputs": [
        {
          "output_type": "execute_result",
          "data": {
            "text/plain": [
              "<matplotlib.legend.Legend at 0x7f3e27d5c710>"
            ]
          },
          "metadata": {
            "tags": []
          },
          "execution_count": 64
        },
        {
          "output_type": "display_data",
          "data": {
            "image/png": "[encoded data removed]",
            "text/plain": [
              "<Figure size 432x288 with 1 Axes>"
            ]
          },
          "metadata": {
            "tags": [],
            "needs_background": "light"
          }
        }
      ]
    },
    {
      "cell_type": "code",
      "metadata": {
        "id": "SYrQhrhJw6Ne",
        "colab_type": "code",
        "colab": {}
      },
      "source": [
        ""
      ],
      "execution_count": null,
      "outputs": []
    },
    {
      "cell_type": "markdown",
      "metadata": {
        "id": "VoQkhORQyZUl",
        "colab_type": "text"
      },
      "source": [
        "# K means clustering"
      ]
    },
    {
      "cell_type": "code",
      "metadata": {
        "id": "UZ10NZyqybAH",
        "colab_type": "code",
        "colab": {}
      },
      "source": [
        "from sklearn.cluster import KMeans \n",
        "X, y = make_blobs(n_samples=5000, centers=[[4,4], [-2, -1], [2, -3], [1, 1]], cluster_std=0.9)"
      ],
      "execution_count": null,
      "outputs": []
    },
    {
      "cell_type": "code",
      "metadata": {
        "id": "mejEUwgw32do",
        "colab_type": "code",
        "colab": {
          "base_uri": "https://localhost:8080/",
          "height": 283
        },
        "outputId": "85bdc8ca-a9f5-468b-cb35-1edb967d9252"
      },
      "source": [
        "plt.scatter(X[:, 0], X[:, 1], marker='.')"
      ],
      "execution_count": null,
      "outputs": [
        {
          "output_type": "execute_result",
          "data": {
            "text/plain": [
              "<matplotlib.collections.PathCollection at 0x7f3e27c53048>"
            ]
          },
          "metadata": {
            "tags": []
          },
          "execution_count": 69
        },
        {
          "output_type": "display_data",
          "data": {
            "image/png": "[encoded data removed]",
            "text/plain": [
              "<Figure size 432x288 with 1 Axes>"
            ]
          },
          "metadata": {
            "tags": [],
            "needs_background": "light"
          }
        }
      ]
    },
    {
      "cell_type": "code",
      "metadata": {
        "id": "slNHk72L34gr",
        "colab_type": "code",
        "colab": {}
      },
      "source": [
        "k_means = KMeans(init = \"k-means++\", n_clusters = 4, n_init = 12)"
      ],
      "execution_count": null,
      "outputs": []
    },
    {
      "cell_type": "markdown",
      "metadata": {
        "id": "HrmcLbli4QrC",
        "colab_type": "text"
      },
      "source": [
        "\n",
        "    init: Initialization method of the centroids.\n",
        "        Value will be: \"k-means++\"\n",
        "        k-means++: Selects initial cluster centers for k-mean clustering in a smart way to speed up convergence.\n",
        "    n\\_clusters: The number of clusters to form as well as the number of centroids to generate.\n",
        "        Value will be: 4 (since we have 4 centers)\n",
        "    n\\_init: Number of time the k-means algorithm will be run with different centroid seeds. The final results will be the best output of n\\_init consecutive runs in terms of inertia.\n",
        "        Value will be: 12\n"
      ]
    },
    {
      "cell_type": "code",
      "metadata": {
        "id": "IsbBK9MF4RHn",
        "colab_type": "code",
        "colab": {}
      },
      "source": [
        "k_means.fit(X)\n",
        "k_means_labels = k_means.labels_ # labels for each point in the model\n",
        "k_means_cluster_centers = k_means.cluster_centers_"
      ],
      "execution_count": null,
      "outputs": []
    },
    {
      "cell_type": "markdown",
      "metadata": {
        "id": "lG0e7JzR5zfv",
        "colab_type": "text"
      },
      "source": [
        "# Hierarchical Clustering"
      ]
    },
    {
      "cell_type": "code",
      "metadata": {
        "id": "LoGq0hUy55Au",
        "colab_type": "code",
        "colab": {
          "base_uri": "https://localhost:8080/",
          "height": 73
        },
        "outputId": "cddbf796-c6cd-41d1-d29c-6c187c0fc76a"
      },
      "source": [
        "import numpy as np \n",
        "from scipy import ndimage \n",
        "from scipy.cluster import hierarchy \n",
        "from scipy.spatial import distance_matrix \n",
        "from matplotlib import pyplot as plt \n",
        "from sklearn import manifold, datasets \n",
        "from sklearn.cluster import AgglomerativeClustering \n",
        "from sklearn.datasets.samples_generator import make_blobs \n",
        "%matplotlib inline"
      ],
      "execution_count": null,
      "outputs": [
        {
          "output_type": "stream",
          "text": [
            "/usr/local/lib/python3.6/dist-packages/sklearn/utils/deprecation.py:144: FutureWarning: The sklearn.datasets.samples_generator module is  deprecated in version 0.22 and will be removed in version 0.24. The corresponding classes / functions should instead be imported from sklearn.datasets. Anything that cannot be imported from sklearn.datasets is now part of the private API.\n",
            "  warnings.warn(message, FutureWarning)\n"
          ],
          "name": "stderr"
        }
      ]
    },
    {
      "cell_type": "code",
      "metadata": {
        "id": "HMHXsTco8PT0",
        "colab_type": "code",
        "colab": {
          "base_uri": "https://localhost:8080/",
          "height": 72
        },
        "outputId": "559ef025-4bf8-4058-869f-34b1579f13d1"
      },
      "source": [
        "X2, y2 = make_blobs(n_samples=50, centers=[[4,4], [-2, -1], [1, 1], [10,4]], cluster_std=0.9)\n",
        "agglom = AgglomerativeClustering(n_clusters = 4, linkage = 'average')\n",
        "agglom.fit(X2,y2)"
      ],
      "execution_count": null,
      "outputs": [
        {
          "output_type": "execute_result",
          "data": {
            "text/plain": [
              "AgglomerativeClustering(affinity='euclidean', compute_full_tree='auto',\n",
              "                        connectivity=None, distance_threshold=None,\n",
              "                        linkage='average', memory=None, n_clusters=4)"
            ]
          },
          "metadata": {
            "tags": []
          },
          "execution_count": 73
        }
      ]
    },
    {
      "cell_type": "code",
      "metadata": {
        "id": "rWC5N6jh8jBd",
        "colab_type": "code",
        "colab": {
          "base_uri": "https://localhost:8080/",
          "height": 523
        },
        "outputId": "5135aea2-144a-47fa-fbfa-2f54f42ed777"
      },
      "source": [
        "# Create a figure of size 6 inches by 4 inches.\n",
        "plt.figure(figsize=(6,4))\n",
        "\n",
        "# These two lines of code are used to scale the data points down,\n",
        "# Or else the data points will be scattered very far apart.\n",
        "\n",
        "# Create a minimum and maximum range of X2.\n",
        "x_min, x_max = np.min(X2, axis=0), np.max(X2, axis=0)\n",
        "\n",
        "# Get the average distance for X2.\n",
        "X2 = (X2 - x_min) / (x_max - x_min)\n",
        "\n",
        "# This loop displays all of the datapoints.\n",
        "for i in range(X2.shape[0]):\n",
        "    # Replace the data points with their respective cluster value \n",
        "    # (ex. 0) and is color coded with a colormap (plt.cm.spectral)\n",
        "    plt.text(X2[i, 0], X2[i, 1], str(y2[i]),\n",
        "             color=plt.cm.Spectral(agglom.labels_[i] / 10.),\n",
        "             fontdict={'weight': 'bold', 'size': 9})\n",
        "    \n",
        "# Remove the x ticks, y ticks, x and y axis\n",
        "plt.xticks([])\n",
        "plt.yticks([])\n",
        "plt.axis('off')\n",
        "\n",
        "# Display the plot\n",
        "plt.show()\n",
        "\n",
        "# Display the plot of the original data before clustering\n",
        "plt.scatter(X2[:, 0], X2[:, 1], marker='.')"
      ],
      "execution_count": null,
      "outputs": [
        {
          "output_type": "display_data",
          "data": {
            "image/png": "[encoded data removed]",
            "text/plain": [
              "<Figure size 432x288 with 1 Axes>"
            ]
          },
          "metadata": {
            "tags": []
          }
        },
        {
          "output_type": "execute_result",
          "data": {
            "text/plain": [
              "<matplotlib.collections.PathCollection at 0x7f3e2678c828>"
            ]
          },
          "metadata": {
            "tags": []
          },
          "execution_count": 74
        },
        {
          "output_type": "display_data",
          "data": {
            "image/png": "[encoded data removed]",
            "text/plain": [
              "<Figure size 432x288 with 1 Axes>"
            ]
          },
          "metadata": {
            "tags": [],
            "needs_background": "light"
          }
        }
      ]
    },
    {
      "cell_type": "markdown",
      "metadata": {
        "id": "XEXksDiA86vB",
        "colab_type": "text"
      },
      "source": [
        "# Dendrogram"
      ]
    },
    {
      "cell_type": "code",
      "metadata": {
        "id": "aXHeVMXb8705",
        "colab_type": "code",
        "colab": {
          "base_uri": "https://localhost:8080/",
          "height": 450
        },
        "outputId": "e008ad4c-0809-456a-9343-2aa408e3b2ff"
      },
      "source": [
        "dist_matrix = distance_matrix(X2,X2) \n",
        "print(dist_matrix)\n",
        "Z = hierarchy.linkage(dist_matrix, 'complete')\n",
        "dendro = hierarchy.dendrogram(Z)"
      ],
      "execution_count": null,
      "outputs": [
        {
          "output_type": "stream",
          "text": [
            "[[0.         0.77356804 0.59320679 ... 0.47203384 0.08839073 0.36663868]\n",
            " [0.77356804 0.         1.17448365 ... 0.30430037 0.79725102 0.97013937]\n",
            " [0.59320679 1.17448365 0.         ... 0.89578791 0.50856324 0.23234233]\n",
            " ...\n",
            " [0.47203384 0.30430037 0.89578791 ... 0.         0.49295328 0.67991159]\n",
            " [0.08839073 0.79725102 0.50856324 ... 0.49295328 0.         0.27972231]\n",
            " [0.36663868 0.97013937 0.23234233 ... 0.67991159 0.27972231 0.        ]]\n"
          ],
          "name": "stdout"
        },
        {
          "output_type": "stream",
          "text": [
            "/usr/local/lib/python3.6/dist-packages/ipykernel_launcher.py:3: ClusterWarning: scipy.cluster: The symmetric non-negative hollow observation matrix looks suspiciously like an uncondensed distance matrix\n",
            "  This is separate from the ipykernel package so we can avoid doing imports until\n"
          ],
          "name": "stderr"
        },
        {
          "output_type": "display_data",
          "data": {
            "image/png": "[encoded data removed]",
            "text/plain": [
              "<Figure size 432x288 with 1 Axes>"
            ]
          },
          "metadata": {
            "tags": [],
            "needs_background": "light"
          }
        }
      ]
    },
    {
      "cell_type": "code",
      "metadata": {
        "id": "FFlOMPYC9COO",
        "colab_type": "code",
        "colab": {}
      },
      "source": [
        ""
      ],
      "execution_count": null,
      "outputs": []
    }
  ]
}